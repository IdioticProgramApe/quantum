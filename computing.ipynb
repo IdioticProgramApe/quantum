{
  "nbformat": 4,
  "nbformat_minor": 0,
  "metadata": {
    "colab": {
      "private_outputs": true,
      "provenance": []
    },
    "kernelspec": {
      "name": "python3",
      "display_name": "Python 3"
    },
    "language_info": {
      "name": "python"
    }
  },
  "cells": [
    {
      "cell_type": "code",
      "execution_count": null,
      "metadata": {
        "id": "OLr7Mbfy_Ih2"
      },
      "outputs": [],
      "source": [
        "import numpy as np"
      ]
    },
    {
      "cell_type": "code",
      "source": [
        "# Helper functions\n",
        "\n",
        "def identity(): return np.array([[1, 0], [0, 1]], dtype=np.complex64)\n",
        "def pauli_x(): return np.array([[0, 1], [1, 0]], dtype=np.complex64)\n",
        "def pauli_y(): return np.array([[0, -1j], [1j, 0]], dtype=np.complex64)\n",
        "def pauli_z(): return np.array([[1, 0], [0, -1]], dtype=np.complex64)\n",
        "def hadamard(): return np.sqrt(0.5) * np.array([[1, 1], [1, -1]], dtype=np.complex64)\n",
        "def phase(phi): return np.array([[1, 0], [0, np.exp(1j * phi)]], dtype=np.complex64)\n",
        "def controlled(gate): return np.array([[[1, 0], [0, 1]], [[0, 0], [0, 0]], [[0, 0], [0, 0]], gate], dtype=np.complex64)\n",
        "def cnot(): return controlled(pauli_x())\n",
        "def swap(): return np.array([[[1, 0], [0, 0]], [[0, 0], [1, 0]], [[0, 1], [0, 0]], [[0, 0], [0, 1]]], dtype=np.complex64)"
      ],
      "metadata": {
        "id": "Ro75TUMhCXaJ"
      },
      "execution_count": null,
      "outputs": []
    },
    {
      "cell_type": "code",
      "source": [
        "# Define gates\n",
        "# Reference: https://en.wikipedia.org/wiki/Quantum_logic_gate\n",
        "\n",
        "I = identity()\n",
        "X = pauli_x()\n",
        "Y = pauli_y()\n",
        "Z = pauli_z()\n",
        "H = hadamard()\n",
        "S = phase(0.5 * np.pi)\n",
        "CNOT = cnot()\n",
        "SWAP = swap()"
      ],
      "metadata": {
        "id": "2NevGCGa_TxR"
      },
      "execution_count": null,
      "outputs": []
    },
    {
      "cell_type": "code",
      "source": [
        "# Print gates\n",
        "\n",
        "print(I)\n",
        "print(X)\n",
        "print(Y)\n",
        "print(Z)\n",
        "print(H)\n",
        "print(S)\n",
        "print(CNOT)\n",
        "print(SWAP)"
      ],
      "metadata": {
        "id": "0Yf-YMgQNlQC"
      },
      "execution_count": null,
      "outputs": []
    },
    {
      "cell_type": "code",
      "source": [
        "# Print identity relations\n",
        "\n",
        "print(np.matmul(I, I))\n",
        "print(np.matmul(X, X))\n",
        "print(np.matmul(Y, Y))\n",
        "print(np.matmul(Z, Z))\n",
        "print(-1j * np.matmul(X, np.matmul(Y, Z)))\n",
        "print(np.matmul(H, H))\n",
        "print(0.5 * (np.tensordot(I, I, axes=0) + np.tensordot(X, X, axes=0) + np.tensordot(Y, Y, axes=0) + np.tensordot(Z, Z, axes=0)))"
      ],
      "metadata": {
        "id": "rW-xBpqLBUKn"
      },
      "execution_count": null,
      "outputs": []
    },
    {
      "cell_type": "code",
      "source": [
        "# Serial Y-X gate\n",
        "\n",
        "print(np.matmul(X, Y))"
      ],
      "metadata": {
        "id": "h-r55xyFHWRN"
      },
      "execution_count": null,
      "outputs": []
    },
    {
      "cell_type": "code",
      "source": [
        "# Parallel Y/X gate\n",
        "\n",
        "print(np.tensordot(Y, X, axes=0))"
      ],
      "metadata": {
        "id": "RvpgBiQrPSBz"
      },
      "execution_count": null,
      "outputs": []
    },
    {
      "cell_type": "code",
      "source": [],
      "metadata": {
        "id": "cJQ2-NLOPgQL"
      },
      "execution_count": null,
      "outputs": []
    }
  ]
}